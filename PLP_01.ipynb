{
  "nbformat": 4,
  "nbformat_minor": 0,
  "metadata": {
    "colab": {
      "provenance": [],
      "authorship_tag": "ABX9TyNGdPoFfVswRyapHvn2y8KX",
      "include_colab_link": true
    },
    "kernelspec": {
      "name": "python3",
      "display_name": "Python 3"
    },
    "language_info": {
      "name": "python"
    }
  },
  "cells": [
    {
      "cell_type": "markdown",
      "metadata": {
        "id": "view-in-github",
        "colab_type": "text"
      },
      "source": [
        "<a href=\"https://colab.research.google.com/github/RafaelASSP/PLP-2023.2/blob/main/PLP_01.ipynb\" target=\"_parent\"><img src=\"https://colab.research.google.com/assets/colab-badge.svg\" alt=\"Open In Colab\"/></a>"
      ]
    },
    {
      "cell_type": "code",
      "execution_count": null,
      "metadata": {
        "id": "MrpUmfsvM2S7"
      },
      "outputs": [],
      "source": []
    },
    {
      "cell_type": "markdown",
      "source": [
        "Programa 01 - Objetivo: Fazer a leitura de duas notas e calcular sua média."
      ],
      "metadata": {
        "id": "KZdxOlyjM-YO"
      }
    },
    {
      "cell_type": "code",
      "source": [
        "nota1 = float(input(\"Informe a nota 1: \"))\n",
        "nota2 = float(input(\"Informe a nota 2: \"))\n",
        "media = (nota1 + nota2)/ 2\n",
        "\n",
        "print(\"A média final é:\",media)\n",
        "\n"
      ],
      "metadata": {
        "colab": {
          "base_uri": "https://localhost:8080/"
        },
        "id": "te7rWvfcM9v-",
        "outputId": "da5f14a1-24d9-4362-eece-fbb3c8da6eb4"
      },
      "execution_count": null,
      "outputs": [
        {
          "output_type": "stream",
          "name": "stdout",
          "text": [
            "Informe a nota 1: 5\n",
            "Informe a nota 2: 9\n",
            "A média final é: 7.0\n"
          ]
        }
      ]
    },
    {
      "cell_type": "code",
      "source": [
        "def media(nota1, nota2):\n",
        "    med = (nota1 + nota2)/2\n",
        "\n",
        "    return med\n",
        "\n",
        "print(media(8, 10))\n"
      ],
      "metadata": {
        "colab": {
          "base_uri": "https://localhost:8080/"
        },
        "id": "JTOJ8NvcOSbR",
        "outputId": "0e0b4576-8626-4960-f907-3f2c9af6cda8"
      },
      "execution_count": null,
      "outputs": [
        {
          "output_type": "stream",
          "name": "stdout",
          "text": [
            "9.0\n"
          ]
        }
      ]
    },
    {
      "cell_type": "markdown",
      "source": [
        "Programa 02 - Faça um programa que solicite o preço de uma mercadoria e o percentual de desconto e exiba o valor de desconto e o preço a pagar"
      ],
      "metadata": {
        "id": "nq-ht-piRzDW"
      }
    },
    {
      "cell_type": "code",
      "source": [
        "preco = float(input(\"Digite o preço da mercadoria: \"))\n",
        "desconto = int(input(\"Digite a porcentagem do desconto: \"))\n",
        "\n",
        "valor_desconto = preco * desconto/100\n",
        "1\n",
        "valorf = preco - valor_desconto\n",
        "\n",
        "print(\"O valor do desconto é:\",valor_desconto)\n",
        "print(\"O valor final com desconto é:\",valorf)"
      ],
      "metadata": {
        "colab": {
          "base_uri": "https://localhost:8080/"
        },
        "id": "jCMYL-_aNdRG",
        "outputId": "533bdd0b-c978-4f2e-9bb1-06186ec49a5e"
      },
      "execution_count": null,
      "outputs": [
        {
          "output_type": "stream",
          "name": "stdout",
          "text": [
            "Digite o preço da mercadoria: 100\n",
            "Digite a porcentagem do desconto: 10\n",
            "O valor do desconto é: 10.0\n",
            "O valor final com desconto é: 90.0\n"
          ]
        }
      ]
    },
    {
      "cell_type": "code",
      "source": [
        "def calc (preco, desconto):\n",
        "    valor_desconto = preco * desconto/100\n",
        "    valorf = preco - valor_desconto\n",
        "\n",
        "    return (valor_desconto, valorf)\n",
        "\n",
        "print(calc(100,10))\n"
      ],
      "metadata": {
        "colab": {
          "base_uri": "https://localhost:8080/"
        },
        "id": "B3IdEYh7Twss",
        "outputId": "ba1f0458-a91c-446e-8bad-fb3fb140d1d8"
      },
      "execution_count": null,
      "outputs": [
        {
          "output_type": "stream",
          "name": "stdout",
          "text": [
            "(10.0, 90.0)\n"
          ]
        }
      ]
    },
    {
      "cell_type": "markdown",
      "source": [
        "Programa 03 - Escreva um programa para calcular a redução do tempo de vida do fumante, pergunte a quantidade de cigarros fumados por dia e quantos anos ele já fumou. A cada cigarro o fumante perde 10 minutos de vida, calcule a quantidade de dias que ele perderá e exiba o total de dias\n"
      ],
      "metadata": {
        "id": "FYUCyBOnU6-M"
      }
    },
    {
      "cell_type": "code",
      "source": [
        "qntd_cigarros = int(input(\"Quantos cigarros você fuma por dia? \"))\n",
        "qntd_anos = int(input(\"Quantos anos você já fuma? \"))\n",
        "\n",
        "dias_fumando = qntd_anos * 365\n",
        "\n",
        "min_perdidos = qntd_cigarros * 10 # min perdidos por dia\n",
        "\n",
        "tempo_perdido = (dias_fumando * min_perdidos) / 1440\n",
        "\n",
        "print(\"Você fuma a\",dias_fumando,\"dias\")\n",
        "\n",
        "print(\"Você perdeu\",tempo_perdido,\"dias de vida\")"
      ],
      "metadata": {
        "colab": {
          "base_uri": "https://localhost:8080/"
        },
        "id": "wAPNUTB4SOtY",
        "outputId": "f7609b15-9d7b-4d19-f5b3-b47157a2b014"
      },
      "execution_count": null,
      "outputs": [
        {
          "output_type": "stream",
          "name": "stdout",
          "text": [
            "Quantos cigarros você fuma por dia? 8\n",
            "Quantos anos você já fuma? 6\n",
            "Você fuma a 2190 dias\n",
            "Você perdeu 121.66666666666667 dias de vida\n"
          ]
        }
      ]
    },
    {
      "cell_type": "code",
      "source": [],
      "metadata": {
        "id": "3ChsQ1qGZOAL"
      },
      "execution_count": null,
      "outputs": []
    }
  ]
}