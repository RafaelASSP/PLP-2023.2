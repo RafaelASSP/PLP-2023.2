{
  "nbformat": 4,
  "nbformat_minor": 0,
  "metadata": {
    "colab": {
      "provenance": [],
      "authorship_tag": "ABX9TyP9A+4yOC2zejiGH2ItWg8E",
      "include_colab_link": true
    },
    "kernelspec": {
      "name": "python3",
      "display_name": "Python 3"
    },
    "language_info": {
      "name": "python"
    }
  },
  "cells": [
    {
      "cell_type": "markdown",
      "metadata": {
        "id": "view-in-github",
        "colab_type": "text"
      },
      "source": [
        "<a href=\"https://colab.research.google.com/github/RafaelASSP/PLP-2023.2/blob/main/PLP_04.ipynb\" target=\"_parent\"><img src=\"https://colab.research.google.com/assets/colab-badge.svg\" alt=\"Open In Colab\"/></a>"
      ]
    },
    {
      "cell_type": "code",
      "execution_count": null,
      "metadata": {
        "id": "IMSx6fTib6oU"
      },
      "outputs": [],
      "source": []
    },
    {
      "cell_type": "markdown",
      "source": [
        "Crie um código que lê um vetor de 8 posições e, em seguida, lê dois valores X e Y quaisquer correspondentes a duas posições no vetor. O programa então imprime a soma dos valores encontrados nas respectivas posições X e Y\n"
      ],
      "metadata": {
        "id": "7CPhYmmCdO8V"
      }
    },
    {
      "cell_type": "markdown",
      "source": [],
      "metadata": {
        "id": "12CkDgV6jbW8"
      }
    },
    {
      "cell_type": "code",
      "source": [
        "\n",
        "def ler_vetor():\n",
        "  vetor = [0] * 8\n",
        "\n",
        "  for i in range (8):\n",
        "    vetor[i] = int(input(f\"Digite o valor para a posição {i}: \".format(i)))\n",
        "\n",
        "  x = int(input(\"Digite o valor de X: \"))\n",
        "  y = int(input(\"Digite o valor de Y: \"))\n",
        "\n",
        "  if (x > 7 or y > 7):\n",
        "     return  \"!!!! Valor inválido !!!!!!\"\n",
        "\n",
        "\n",
        "  soma = vetor[x] + vetor[y]\n",
        "\n",
        "  print(f\"A soma dos valores nas posições X e Y é {soma}\".format(soma))\n",
        "ler_vetor()"
      ],
      "metadata": {
        "colab": {
          "base_uri": "https://localhost:8080/",
          "height": 209
        },
        "id": "5P2Y66T5dko4",
        "outputId": "f1ba77d9-370f-416d-d75b-933cd56951ea"
      },
      "execution_count": null,
      "outputs": [
        {
          "name": "stdout",
          "output_type": "stream",
          "text": [
            "Digite o valor para a posição 0: 5\n",
            "Digite o valor para a posição 1: 8\n",
            "Digite o valor para a posição 2: 6\n",
            "Digite o valor para a posição 3: 3\n",
            "Digite o valor para a posição 4: 4\n",
            "Digite o valor para a posição 5: 5\n",
            "Digite o valor para a posição 6: 6\n",
            "Digite o valor para a posição 7: 2\n",
            "Digite o valor de X: 2\n",
            "Digite o valor de Y: 63\n"
          ]
        },
        {
          "output_type": "execute_result",
          "data": {
            "text/plain": [
              "'\\n !!!! Valor inválido !!!!!!'"
            ],
            "application/vnd.google.colaboratory.intrinsic+json": {
              "type": "string"
            }
          },
          "metadata": {},
          "execution_count": 25
        }
      ]
    },
    {
      "cell_type": "code",
      "source": [],
      "metadata": {
        "id": "IZ7szUZWd7fX"
      },
      "execution_count": null,
      "outputs": []
    },
    {
      "cell_type": "markdown",
      "source": [
        "Faça um programa que receba do usuário um vetor com 10 posições. Em seguida devera ser impresso o maior e o menor elemento do vetor.\n"
      ],
      "metadata": {
        "id": "QfWT_IDzjc4U"
      }
    },
    {
      "cell_type": "code",
      "source": [
        "def maior_menor():\n",
        "  # Declaração de variaveis\n",
        "  vetor = []\n",
        "  soma = 0\n",
        "  Mcinco = 0\n",
        "\n",
        "  # Faz a leitura e preenchimento dos elementos do vetor\n",
        "  for i in range(10):\n",
        "    vetor.append(int(input(\"Digite o elemento %d: \" % i)))\n",
        "\n",
        "    # Inicializando os valores maior e menor\n",
        "    maior = vetor[0]\n",
        "    menor = vetor[0]\n",
        "\n",
        "  # Verificação dos valores\n",
        "    if(vetor[i] > maior):\n",
        "      maior = vetor[i]\n",
        "\n",
        "    if (vetor[i] < menor):\n",
        "      menor = vetor[i]\n",
        "  # Quantidade de números maior que 5\n",
        "    if(vetor[i] > 5):\n",
        "      Mcinco += 1\n",
        "  # Soma dos valores\n",
        "    soma += vetor[i]\n",
        "\n",
        " # Calcula a média dos valores\n",
        "  media = soma / len(vetor)\n",
        "\n",
        "  print (f\"\\nO maior número é: {maior}\")\n",
        "  print (f\"O menor número é: {menor}\")\n",
        "  print (f\"A soma de todos os números é {soma}\")\n",
        "  print (f\"O media dos números é: {media}\")\n",
        "  print (f\"A quantidade de número maior que cinco é: {Mcinco}\")\n",
        "\n",
        "maior_menor()"
      ],
      "metadata": {
        "colab": {
          "base_uri": "https://localhost:8080/"
        },
        "id": "Gj6dcFpDjl3k",
        "outputId": "62a3a97d-bb9b-4d6e-bab5-f8822b720850"
      },
      "execution_count": null,
      "outputs": [
        {
          "output_type": "stream",
          "name": "stdout",
          "text": [
            "Digite o elemento 0: 1\n",
            "Digite o elemento 1: 1\n",
            "Digite o elemento 2: 1\n",
            "Digite o elemento 3: 1\n",
            "Digite o elemento 4: 1\n",
            "Digite o elemento 5: 1\n",
            "Digite o elemento 6: 1\n",
            "Digite o elemento 7: 1\n",
            "Digite o elemento 8: 1\n",
            "Digite o elemento 9: 1\n",
            "\n",
            "O maior número é: 1\n",
            "O menor número é: 1\n",
            "A soma de todos os números é 10\n",
            "O media dos números é: 1.0\n",
            "A quantidade de número maior que cinco é: 0\n"
          ]
        }
      ]
    }
  ]
}