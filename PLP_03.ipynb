{
  "nbformat": 4,
  "nbformat_minor": 0,
  "metadata": {
    "colab": {
      "provenance": [],
      "authorship_tag": "ABX9TyOkS5P8oXqW4BiOFjRrOdn+",
      "include_colab_link": true
    },
    "kernelspec": {
      "name": "python3",
      "display_name": "Python 3"
    },
    "language_info": {
      "name": "python"
    }
  },
  "cells": [
    {
      "cell_type": "markdown",
      "metadata": {
        "id": "view-in-github",
        "colab_type": "text"
      },
      "source": [
        "<a href=\"https://colab.research.google.com/github/RafaelASSP/PLP-2023.2/blob/main/PLP_03.ipynb\" target=\"_parent\"><img src=\"https://colab.research.google.com/assets/colab-badge.svg\" alt=\"Open In Colab\"/></a>"
      ]
    },
    {
      "cell_type": "markdown",
      "source": [
        "Escreva um programa que pergunte o salário do funcionário e calcule o valor do aumento. Para salários superiores a R$ 1.250,00, calcule um aumento de 10%. Para os inferiores ou iguais, de 15%.\n"
      ],
      "metadata": {
        "id": "Tt_9cORePaZo"
      }
    },
    {
      "cell_type": "code",
      "source": [
        "salário = float(input(\"Digite seu salário: \"))\n",
        "pc_aumento = 0.15\n",
        "if salário > 1250:\n",
        "    pc_aumento = 0.10\n",
        "aumento = salário * pc_aumento\n",
        "print(f\"Seu aumento será de: R$ {aumento:,.2f}\")\n",
        "print(f\"o percentual de aumento foi: {pc_aumento:.2f}\")"
      ],
      "metadata": {
        "colab": {
          "base_uri": "https://localhost:8080/"
        },
        "id": "Dm7UmRnzPc7y",
        "outputId": "0ecbe733-8172-4092-acb5-0659597abdcf"
      },
      "execution_count": 3,
      "outputs": [
        {
          "output_type": "stream",
          "name": "stdout",
          "text": [
            "Digite seu salário: 5000\n",
            "Seu aumento será de: R$ 500.00\n",
            "o percentual de aumento foi: 0.10\n"
          ]
        }
      ]
    },
    {
      "cell_type": "markdown",
      "source": [
        "Faça um programa que solicite o preço de uma mercadoria e o percentual de desconto. Exiba o valor do desconto e o preço a pagar.\n"
      ],
      "metadata": {
        "id": "hRR79I9AP2Qd"
      }
    },
    {
      "cell_type": "code",
      "source": [
        "preço = float(input(\"Digite o preço da mercadoria:\"))\n",
        "desconto = float(input(\"Digite o percentual de desconto:\"))\n",
        "valor_do_desconto = preço * desconto / 100\n",
        "a_pagar = preço - valor_do_desconto\n",
        "print(\"Um desconto de %.2f %% em uma mercadoria de R$ %.2f\" % (desconto, preço))\n",
        "print(\"vale R$ %.2f.\" % valor_do_desconto)\n",
        "print(\"O valor a pagar é de R$ %.2f\" % a_pagar)"
      ],
      "metadata": {
        "colab": {
          "base_uri": "https://localhost:8080/"
        },
        "id": "n-bkffNGP4vy",
        "outputId": "203a8e80-e9e8-4361-e758-89c3cd40630f"
      },
      "execution_count": 5,
      "outputs": [
        {
          "output_type": "stream",
          "name": "stdout",
          "text": [
            "Digite o preço da mercadoria:5\n",
            "Digite o percentual de desconto:2\n",
            "Um desconto de 2.00 % em uma mercadoria de R$ 5.00\n",
            "vale R$ 0.10.\n",
            "O valor a pagar é de R$ 4.90\n"
          ]
        }
      ]
    },
    {
      "cell_type": "markdown",
      "source": [
        "Escreva um programa que compare duas listas. Utilizando operações com conjuntos, imprima:\n",
        "• os valores comuns às duas listas\n",
        "• os valores que só existem na primeira\n",
        "• os valores que existem apenas na segunda\n",
        "• uma lista com os elementos não repetidos das duas listas.\n",
        "• a primeira lista sem os elementos repetidos na segunda"
      ],
      "metadata": {
        "id": "MFlIBDiwQEIL"
      }
    },
    {
      "cell_type": "code",
      "source": [
        "L1 = [1, 2, 6, 8]\n",
        "L2 = [3, 6, 8, 9]\n",
        "\n",
        "print(f\"Lista 1: {L1}\")\n",
        "print(f\"Lista 2: {L2}\")\n",
        "\n",
        "conjunto_1 = set(L1)\n",
        "conjunto_2 = set(L2)\n",
        "\n",
        "\n",
        "print(\"Valores comuns às duas listas:\", conjunto_1 & conjunto_2)\n",
        "print(\"Valores que só existem na primeira:\", conjunto_1 - conjunto_2)\n",
        "print(\"Valores que só existem na segunda:\", conjunto_2 - conjunto_1)\n",
        "\n",
        "\n",
        "print(\"Elementos não repetidos nas duas listas:\", conjunto_1 ^ conjunto_2)\n",
        "\n",
        "\n",
        "print(\"Primeira lista, sem os elementos repetidos na segunda:\",\n",
        "      conjunto_1 - conjunto_2)"
      ],
      "metadata": {
        "colab": {
          "base_uri": "https://localhost:8080/"
        },
        "id": "Ag8GyjwDQGaS",
        "outputId": "f5311704-57f4-41bd-8081-088b75de0b42"
      },
      "execution_count": 6,
      "outputs": [
        {
          "output_type": "stream",
          "name": "stdout",
          "text": [
            "Lista 1: [1, 2, 6, 8]\n",
            "Lista 2: [3, 6, 8, 9]\n",
            "Valores comuns às duas listas: {8, 6}\n",
            "Valores que só existem na primeira: {1, 2}\n",
            "Valores que só existem na segunda: {9, 3}\n",
            "Elementos não repetidos nas duas listas: {1, 2, 3, 9}\n",
            "Primeira lista, sem os elementos repetidos na segunda: {1, 2}\n"
          ]
        }
      ]
    },
    {
      "cell_type": "code",
      "source": [],
      "metadata": {
        "id": "1RxmqU6SQFJu"
      },
      "execution_count": null,
      "outputs": []
    }
  ]
}