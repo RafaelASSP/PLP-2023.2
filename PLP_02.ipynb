{
  "nbformat": 4,
  "nbformat_minor": 0,
  "metadata": {
    "colab": {
      "provenance": [],
      "authorship_tag": "ABX9TyOZXYLiAlkOmMjkMXJHDQq+",
      "include_colab_link": true
    },
    "kernelspec": {
      "name": "python3",
      "display_name": "Python 3"
    },
    "language_info": {
      "name": "python"
    }
  },
  "cells": [
    {
      "cell_type": "markdown",
      "metadata": {
        "id": "view-in-github",
        "colab_type": "text"
      },
      "source": [
        "<a href=\"https://colab.research.google.com/github/RafaelASSP/PLP-2023.2/blob/main/PLP_02.ipynb\" target=\"_parent\"><img src=\"https://colab.research.google.com/assets/colab-badge.svg\" alt=\"Open In Colab\"/></a>"
      ]
    },
    {
      "cell_type": "markdown",
      "source": [],
      "metadata": {
        "id": "V7PdEDZOKlQ6"
      }
    },
    {
      "cell_type": "markdown",
      "source": [
        "Escreva um programa para controlar uma pequena maquina registradora.\n",
        "Você deve solicitar ao usuário que digite o código do produto e a quantidade comprada,\n",
        "Utilize a tabela de códigos a seguri para obter o preço de cada produto.\n",
        "Código 1 equivale a 0.50\n",
        "Código 2 equivale a 1,00\n",
        "Código 3 equivale a 4,00\n",
        "Código 5 equivale a 7,00\n",
        "Código 9 equivale a 8,00"
      ],
      "metadata": {
        "id": "Epq85STjKova"
      }
    },
    {
      "cell_type": "code",
      "source": [
        "def calcular_preco(codigo):\n",
        "    precos = {1: 0.50, 2: 1.00, 3: 4.00, 5: 7.00, 9: 8.00}\n",
        "    return precos.get(codigo, 0.00)\n",
        "\n",
        "def calcular_total():\n",
        "    total = 0.0\n",
        "\n",
        "    while True:\n",
        "      codigo = int(input(\"Digite o código do produto (ou 0 para finalizar): \"))\n",
        "      if codigo == 0:\n",
        "          break\n",
        "\n",
        "      quantidade = int(input(\"Digite a quantidade comprada: \"))\n",
        "\n",
        "      preco_unidade = calcular_preco(codigo)\n",
        "      if preco_unidade == 0:\n",
        "          print(\"Código de produto inválido\")\n",
        "\n",
        "      else:\n",
        "          subtotal = preco_unidade * quantidade\n",
        "          total += subtotal\n",
        "          print(f\"Subtotal para o produto {codigo}: R${subtotal:.2f}\")\n",
        "\n",
        "      return total\n",
        "\n",
        "if __name__ == \"__main__\":\n",
        "    total_compra = calcular_total()\n",
        "    print(f\"Total da compra: R${total_compra: .2f}\")\n",
        "    print(\"Obrigado por usar a máquina registradora!\")"
      ],
      "metadata": {
        "colab": {
          "base_uri": "https://localhost:8080/"
        },
        "id": "fUznrd40KqX1",
        "outputId": "fb207768-6d6e-4dbd-ee7f-6254704fb9a7"
      },
      "execution_count": 9,
      "outputs": [
        {
          "output_type": "stream",
          "name": "stdout",
          "text": [
            "Digite o código do produto (ou 0 para finalizar): 2\n",
            "Digite a quantidade comprada: 2\n",
            "Subtotal para o produto 2: R$2.00\n",
            "Total da compra: R$ 2.00\n",
            "Obrigado por usar a máquina registradora!\n"
          ]
        }
      ]
    }
  ]
}